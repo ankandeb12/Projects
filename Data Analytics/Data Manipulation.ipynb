{
 "cells": [
  {
   "cell_type": "markdown",
   "id": "152584d1",
   "metadata": {},
   "source": [
    "Performing data wrangling for student’s data. The data is maintained for subjects: Math, Physics and Data Structure. This data is stored in different files in csvformat. \n",
    "   Data: MathScoreTerm1.csv DSScoreTerm1.csv, PhysicsScoreTerm1.csv  (available on kaggle),\n",
    "The task contains following sub tasks\n",
    "1. Read the three csv files which contains the score of same students in term1 for each Subject\n",
    "2. Remove the name and ethnicity column (to ensure confidentiality)\n",
    "3. Fill missing score data with zero\n",
    "4. Merge two files\n",
    "5. Change Sex(M/F) Column to 1/2 for further analysis\n",
    "6. Store the data in new file –ScoreFinal.csv"
   ]
  },
  {
   "cell_type": "code",
   "execution_count": 15,
   "id": "b42f1d31",
   "metadata": {},
   "outputs": [],
   "source": [
    "import pandas as pd\n",
    "import numpy as np\n",
    "from sklearn.preprocessing import LabelEncoder\n",
    "# 1. Read three CSV files\n",
    "math_scores = pd.read_csv('MathScoreTerm1.csv')\n",
    "ds_scores = pd.read_csv('DSScoreTerm1.csv')\n",
    "physics_scores = pd.read_csv('PhysicsScoreTerm1.csv')\n",
    "\n",
    "# 2. Remove name and ethnicity columns\n",
    "math_scores = math_scores.drop(['Name', 'Ethinicity'], axis=1)\n",
    "ds_scores = ds_scores.drop(['Name', 'Ethinicity'], axis=1)\n",
    "physics_scores = physics_scores.drop(['Name', 'Ethinicity'], axis=1)\n",
    "\n",
    "# 3. Fill missing score data with zero\n",
    "math_scores = math_scores.fillna(0)\n",
    "ds_scores = ds_scores.fillna(0)\n",
    "physics_scores = physics_scores.fillna(0)\n",
    "\n",
    "# 4. Merge two files\n",
    "merged_scores = pd.merge(math_scores, ds_scores, on='ID')\n",
    "merged_scores = pd.merge(merged_scores, physics_scores, on='ID')\n",
    "\n",
    "# 5. Change Sex(M/F) Column to 1/2 for further analysis\n",
    "merged_scores['Sex'] = merged_scores['Sex'].map({'M': 1, 'F': 2})\n",
    "\n",
    "# 6. Store the data in a new file – ScoreFinal.csv\n",
    "merged_scores.to_csv('ScoreFinal.csv', index=False)"
   ]
  },
  {
   "cell_type": "code",
   "execution_count": null,
   "id": "749a9304",
   "metadata": {},
   "outputs": [],
   "source": []
  }
 ],
 "metadata": {
  "kernelspec": {
   "display_name": "Python 3 (ipykernel)",
   "language": "python",
   "name": "python3"
  },
  "language_info": {
   "codemirror_mode": {
    "name": "ipython",
    "version": 3
   },
   "file_extension": ".py",
   "mimetype": "text/x-python",
   "name": "python",
   "nbconvert_exporter": "python",
   "pygments_lexer": "ipython3",
   "version": "3.10.5"
  }
 },
 "nbformat": 4,
 "nbformat_minor": 5
}
