{
 "cells": [
  {
   "cell_type": "markdown",
   "id": "65c50c5c",
   "metadata": {},
   "source": [
    "## Logistic Regression on Admission Prediction Dataset (available on kaggle)"
   ]
  },
  {
   "cell_type": "code",
   "execution_count": 5,
   "id": "be383e5a",
   "metadata": {},
   "outputs": [],
   "source": [
    "import pandas as pd\n",
    "import numpy as np\n",
    "import matplotlib.pyplot as plt\n",
    "import seaborn as sns\n",
    "from sklearn.linear_model import LogisticRegression\n",
    "from sklearn.model_selection import train_test_split\n",
    "from sklearn.metrics import accuracy_score, confusion_matrix, precision_score, recall_score"
   ]
  },
  {
   "cell_type": "code",
   "execution_count": 6,
   "id": "1ed6d8c0",
   "metadata": {},
   "outputs": [
    {
     "name": "stdout",
     "output_type": "stream",
     "text": [
      "   Serial No.  GRE Score  TOEFL Score  University Rating  SOP  LOR   CGPA  \\\n",
      "0           1        337          118                  4  4.5   4.5  9.65   \n",
      "1           2        324          107                  4  4.0   4.5  8.87   \n",
      "2           3        316          104                  3  3.0   3.5  8.00   \n",
      "3           4        322          110                  3  3.5   2.5  8.67   \n",
      "4           5        314          103                  2  2.0   3.0  8.21   \n",
      "\n",
      "   Research  Chance of Admit   \n",
      "0         1              0.92  \n",
      "1         1              0.76  \n",
      "2         1              0.72  \n",
      "3         1              0.80  \n",
      "4         0              0.65  \n"
     ]
    }
   ],
   "source": [
    "# a) Import Admission_Predict dataset, display it, visualize various columns\n",
    "admission_data = pd.read_csv('Admission_Predict.csv')\n",
    "print(admission_data.head())"
   ]
  },
  {
   "cell_type": "code",
   "execution_count": 7,
   "id": "1202055f",
   "metadata": {},
   "outputs": [
    {
     "data": {
      "image/png": "[encoded data removed]",
      "text/plain": [
       "<Figure size 576x432 with 1 Axes>"
      ]
     },
     "metadata": {
      "needs_background": "light"
     },
     "output_type": "display_data"
    }
   ],
   "source": [
    "# b) Plot the dataset on CGPA vs. Chance of Admit\n",
    "plt.figure(figsize=(8, 6))\n",
    "sns.scatterplot(x='CGPA', y='Chance of Admit ', data=admission_data)\n",
    "plt.title('Scatter Plot of CGPA vs. Chance of Admit')\n",
    "plt.xlabel('CGPA')\n",
    "plt.ylabel('Chance of Admit')\n",
    "plt.show()"
   ]
  },
  {
   "cell_type": "code",
   "execution_count": 8,
   "id": "a591cc46",
   "metadata": {},
   "outputs": [
    {
     "name": "stdout",
     "output_type": "stream",
     "text": [
      "     Chance of Admit   Admitted\n",
      "0                0.92         1\n",
      "1                0.76         1\n",
      "2                0.72         1\n",
      "3                0.80         1\n",
      "4                0.65         1\n",
      "..                ...       ...\n",
      "395              0.82         1\n",
      "396              0.84         1\n",
      "397              0.91         1\n",
      "398              0.67         1\n",
      "399              0.95         1\n",
      "\n",
      "[400 rows x 2 columns]\n"
     ]
    }
   ],
   "source": [
    "# c) Convert 'Chance of Admit' to binary classes\n",
    "threshold = 0.5\n",
    "admission_data['Admitted'] = (admission_data['Chance of Admit '] > threshold).astype(int)\n",
    "print(admission_data[['Chance of Admit ', 'Admitted']])"
   ]
  },
  {
   "cell_type": "code",
   "execution_count": 9,
   "id": "4bcd707e",
   "metadata": {},
   "outputs": [
    {
     "name": "stdout",
     "output_type": "stream",
     "text": [
      "Slope: 3.3620030266174252, Intercept: -25.26029497892227\n"
     ]
    }
   ],
   "source": [
    "# d) Find the slope and intercept of the line to fit\n",
    "X = admission_data[['CGPA']]\n",
    "y = admission_data['Admitted']\n",
    "model = LogisticRegression()\n",
    "model.fit(X, y)\n",
    "\n",
    "slope = model.coef_[0][0]\n",
    "intercept = model.intercept_[0]\n",
    "print(f\"Slope: {slope}, Intercept: {intercept}\")"
   ]
  },
  {
   "cell_type": "code",
   "execution_count": 10,
   "id": "4a6120d2",
   "metadata": {},
   "outputs": [
    {
     "name": "stdout",
     "output_type": "stream",
     "text": [
      "     CGPA  Admitted  log_odds\n",
      "0    9.65         1 -0.000759\n",
      "1    8.87         1 -0.010401\n",
      "2    8.00         1 -0.177987\n",
      "3    8.67         1 -0.020274\n",
      "4    8.21         1 -0.091812\n",
      "..    ...       ...       ...\n",
      "395  9.04         1 -0.005886\n",
      "396  9.11         1 -0.004655\n",
      "397  9.45         1 -0.001486\n",
      "398  8.78         1 -0.014050\n",
      "399  9.66         1 -0.000734\n",
      "\n",
      "[400 rows x 3 columns]\n"
     ]
    }
   ],
   "source": [
    "# e) Compute the log odds for each entry. Merge the results with the data as a new column\n",
    "log_odds = model.predict_log_proba(X)[:, 1]\n",
    "admission_data['log_odds'] = log_odds\n",
    "print(admission_data[['CGPA', 'Admitted', 'log_odds']])"
   ]
  },
  {
   "cell_type": "code",
   "execution_count": 14,
   "id": "13d0867a",
   "metadata": {},
   "outputs": [
    {
     "name": "stdout",
     "output_type": "stream",
     "text": [
      "     CGPA  Admitted  log_odds  probability\n",
      "0    9.65         1 -0.000759     0.499810\n",
      "1    8.87         1 -0.010401     0.497400\n",
      "2    8.00         1 -0.177987     0.455620\n",
      "3    8.67         1 -0.020274     0.494932\n",
      "4    8.21         1 -0.091812     0.477063\n",
      "..    ...       ...       ...          ...\n",
      "395  9.04         1 -0.005886     0.498528\n",
      "396  9.11         1 -0.004655     0.498836\n",
      "397  9.45         1 -0.001486     0.499628\n",
      "398  8.78         1 -0.014050     0.496488\n",
      "399  9.66         1 -0.000734     0.499817\n",
      "\n",
      "[400 rows x 4 columns]\n"
     ]
    }
   ],
   "source": [
    "# f) Using the log odds compute the probability for each entry\n",
    "admission_data['probability'] = 1 / (1 + np.exp(-log_odds))\n",
    "print(admission_data[['CGPA', 'Admitted', 'log_odds', 'probability']])"
   ]
  },
  {
   "cell_type": "code",
   "execution_count": 12,
   "id": "2ff09ecf",
   "metadata": {},
   "outputs": [
    {
     "data": {
      "image/png": "[encoded data removed]",
      "text/plain": [
       "<Figure size 576x432 with 1 Axes>"
      ]
     },
     "metadata": {
      "needs_background": "light"
     },
     "output_type": "display_data"
    }
   ],
   "source": [
    "# g) Plot the probabilities vs CGPA graph\n",
    "plt.figure(figsize=(8, 6))\n",
    "sns.scatterplot(x='CGPA', y='probability', data=admission_data)\n",
    "plt.title('Probability vs. CGPA')\n",
    "plt.xlabel('CGPA')\n",
    "plt.ylabel('Probability of Admit')\n",
    "plt.show()"
   ]
  },
  {
   "cell_type": "code",
   "execution_count": 13,
   "id": "a7e65777",
   "metadata": {},
   "outputs": [
    {
     "name": "stdout",
     "output_type": "stream",
     "text": [
      "Training Accuracy: 0.934375\n",
      "Testing Accuracy: 0.8625\n"
     ]
    }
   ],
   "source": [
    "\n",
    "# h) Show the accuracy of the regressor model\n",
    "X_train, X_test, y_train, y_test = train_test_split(X, y, test_size=0.2, random_state=42)\n",
    "model.fit(X_train, y_train)\n",
    "y_pred_train = model.predict(X_train)\n",
    "y_pred_test = model.predict(X_test)\n",
    "\n",
    "accuracy_train = accuracy_score(y_train, y_pred_train)\n",
    "accuracy_test = accuracy_score(y_test, y_pred_test)\n",
    "\n",
    "print(f\"Training Accuracy: {accuracy_train}\")\n",
    "print(f\"Testing Accuracy: {accuracy_test}\")"
   ]
  },
  {
   "cell_type": "markdown",
   "id": "94bc898d",
   "metadata": {},
   "source": [
    "## Logistic Regression on Credit Card Dataset (available on kaggle)"
   ]
  },
  {
   "cell_type": "code",
   "execution_count": 27,
   "id": "79c8041f",
   "metadata": {},
   "outputs": [],
   "source": [
    "import pandas as pd\n",
    "import numpy as np\n",
    "import seaborn as sns\n",
    "import matplotlib.pyplot as plt\n",
    "from sklearn.model_selection import train_test_split\n",
    "from sklearn.preprocessing import StandardScaler\n",
    "from sklearn.linear_model import LogisticRegression\n",
    "from sklearn.metrics import accuracy_score, confusion_matrix, precision_score, recall_score"
   ]
  },
  {
   "cell_type": "code",
   "execution_count": 25,
   "id": "faaee4b4",
   "metadata": {},
   "outputs": [
    {
     "name": "stdout",
     "output_type": "stream",
     "text": [
      "   Time        V1        V2        V3        V4        V5        V6        V7  \\\n",
      "0   0.0 -1.359807 -0.072781  2.536347  1.378155 -0.338321  0.462388  0.239599   \n",
      "1   0.0  1.191857  0.266151  0.166480  0.448154  0.060018 -0.082361 -0.078803   \n",
      "2   1.0 -1.358354 -1.340163  1.773209  0.379780 -0.503198  1.800499  0.791461   \n",
      "3   1.0 -0.966272 -0.185226  1.792993 -0.863291 -0.010309  1.247203  0.237609   \n",
      "4   2.0 -1.158233  0.877737  1.548718  0.403034 -0.407193  0.095921  0.592941   \n",
      "\n",
      "         V8        V9  ...       V21       V22       V23       V24       V25  \\\n",
      "0  0.098698  0.363787  ... -0.018307  0.277838 -0.110474  0.066928  0.128539   \n",
      "1  0.085102 -0.255425  ... -0.225775 -0.638672  0.101288 -0.339846  0.167170   \n",
      "2  0.247676 -1.514654  ...  0.247998  0.771679  0.909412 -0.689281 -0.327642   \n",
      "3  0.377436 -1.387024  ... -0.108300  0.005274 -0.190321 -1.175575  0.647376   \n",
      "4 -0.270533  0.817739  ... -0.009431  0.798278 -0.137458  0.141267 -0.206010   \n",
      "\n",
      "        V26       V27       V28  Amount  Class  \n",
      "0 -0.189115  0.133558 -0.021053  149.62      0  \n",
      "1  0.125895 -0.008983  0.014724    2.69      0  \n",
      "2 -0.139097 -0.055353 -0.059752  378.66      0  \n",
      "3 -0.221929  0.062723  0.061458  123.50      0  \n",
      "4  0.502292  0.219422  0.215153   69.99      0  \n",
      "\n",
      "[5 rows x 31 columns]\n"
     ]
    }
   ],
   "source": [
    "#a) Load the dataset, visualize it, show the data headers\n",
    "import pandas as pd\n",
    "credit_card_data = pd.read_csv('creditcard.csv')\n",
    "print(credit_card_data.head())"
   ]
  },
  {
   "cell_type": "code",
   "execution_count": 26,
   "id": "888ebe53",
   "metadata": {},
   "outputs": [],
   "source": [
    "#b) Preprocess the dataset\n",
    "# i. Check duplicate data. If found, remove it.\n",
    "credit_card_data = credit_card_data.drop_duplicates()\n",
    "\n",
    "# ii. Remove columns which are not important. For example: Time\n",
    "credit_card_data = credit_card_data.drop(['Time'], axis=1)\n",
    "\n",
    "# iii. Separate the dataset into feature column and target column.\n",
    "# The 'Class' column is the target column, and everything else is a feature\n",
    "X = credit_card_data.drop(['Class'], axis=1)\n",
    "y = credit_card_data['Class']\n",
    "\n",
    "# iv. Scale the dataset using standard scaling mechanism.\n",
    "from sklearn.preprocessing import StandardScaler\n",
    "scaler = StandardScaler()\n",
    "X_scaled = scaler.fit_transform(X)\n",
    "\n",
    "# v. Partition dataset into training and testing set as 80%-20%\n",
    "from sklearn.model_selection import train_test_split\n",
    "X_train, X_test, y_train, y_test = train_test_split(X_scaled, y, test_size=0.2, random_state=42)\n"
   ]
  },
  {
   "cell_type": "code",
   "execution_count": 18,
   "id": "c709b329",
   "metadata": {},
   "outputs": [
    {
     "data": {
      "image/png": "[encoded data removed]",
      "text/plain": [
       "<Figure size 864x576 with 2 Axes>"
      ]
     },
     "metadata": {
      "needs_background": "light"
     },
     "output_type": "display_data"
    }
   ],
   "source": [
    "#c) Plot histograms/heatmaps to understand the values of each variable.\n",
    "import seaborn as sns\n",
    "import matplotlib.pyplot as plt\n",
    "\n",
    "plt.figure(figsize=(12, 8))\n",
    "sns.heatmap(X.corr(), cmap='coolwarm', annot=False)\n",
    "plt.title('Correlation Heatmap')\n",
    "plt.show()\n"
   ]
  },
  {
   "cell_type": "code",
   "execution_count": 19,
   "id": "ab993df1",
   "metadata": {},
   "outputs": [
    {
     "data": {
      "text/html": [
       "<style>#sk-container-id-1 {color: black;background-color: white;}#sk-container-id-1 pre{padding: 0;}#sk-container-id-1 div.sk-toggleable {background-color: white;}#sk-container-id-1 label.sk-toggleable__label {cursor: pointer;display: block;width: 100%;margin-bottom: 0;padding: 0.3em;box-sizing: border-box;text-align: center;}#sk-container-id-1 label.sk-toggleable__label-arrow:before {content: \"▸\";float: left;margin-right: 0.25em;color: #696969;}#sk-container-id-1 label.sk-toggleable__label-arrow:hover:before {color: black;}#sk-container-id-1 div.sk-estimator:hover label.sk-toggleable__label-arrow:before {color: black;}#sk-container-id-1 div.sk-toggleable__content {max-height: 0;max-width: 0;overflow: hidden;text-align: left;background-color: #f0f8ff;}#sk-container-id-1 div.sk-toggleable__content pre {margin: 0.2em;color: black;border-radius: 0.25em;background-color: #f0f8ff;}#sk-container-id-1 input.sk-toggleable__control:checked~div.sk-toggleable__content {max-height: 200px;max-width: 100%;overflow: auto;}#sk-container-id-1 input.sk-toggleable__control:checked~label.sk-toggleable__label-arrow:before {content: \"▾\";}#sk-container-id-1 div.sk-estimator input.sk-toggleable__control:checked~label.sk-toggleable__label {background-color: #d4ebff;}#sk-container-id-1 div.sk-label input.sk-toggleable__control:checked~label.sk-toggleable__label {background-color: #d4ebff;}#sk-container-id-1 input.sk-hidden--visually {border: 0;clip: rect(1px 1px 1px 1px);clip: rect(1px, 1px, 1px, 1px);height: 1px;margin: -1px;overflow: hidden;padding: 0;position: absolute;width: 1px;}#sk-container-id-1 div.sk-estimator {font-family: monospace;background-color: #f0f8ff;border: 1px dotted black;border-radius: 0.25em;box-sizing: border-box;margin-bottom: 0.5em;}#sk-container-id-1 div.sk-estimator:hover {background-color: #d4ebff;}#sk-container-id-1 div.sk-parallel-item::after {content: \"\";width: 100%;border-bottom: 1px solid gray;flex-grow: 1;}#sk-container-id-1 div.sk-label:hover label.sk-toggleable__label {background-color: #d4ebff;}#sk-container-id-1 div.sk-serial::before {content: \"\";position: absolute;border-left: 1px solid gray;box-sizing: border-box;top: 0;bottom: 0;left: 50%;z-index: 0;}#sk-container-id-1 div.sk-serial {display: flex;flex-direction: column;align-items: center;background-color: white;padding-right: 0.2em;padding-left: 0.2em;position: relative;}#sk-container-id-1 div.sk-item {position: relative;z-index: 1;}#sk-container-id-1 div.sk-parallel {display: flex;align-items: stretch;justify-content: center;background-color: white;position: relative;}#sk-container-id-1 div.sk-item::before, #sk-container-id-1 div.sk-parallel-item::before {content: \"\";position: absolute;border-left: 1px solid gray;box-sizing: border-box;top: 0;bottom: 0;left: 50%;z-index: -1;}#sk-container-id-1 div.sk-parallel-item {display: flex;flex-direction: column;z-index: 1;position: relative;background-color: white;}#sk-container-id-1 div.sk-parallel-item:first-child::after {align-self: flex-end;width: 50%;}#sk-container-id-1 div.sk-parallel-item:last-child::after {align-self: flex-start;width: 50%;}#sk-container-id-1 div.sk-parallel-item:only-child::after {width: 0;}#sk-container-id-1 div.sk-dashed-wrapped {border: 1px dashed gray;margin: 0 0.4em 0.5em 0.4em;box-sizing: border-box;padding-bottom: 0.4em;background-color: white;}#sk-container-id-1 div.sk-label label {font-family: monospace;font-weight: bold;display: inline-block;line-height: 1.2em;}#sk-container-id-1 div.sk-label-container {text-align: center;}#sk-container-id-1 div.sk-container {/* jupyter's `normalize.less` sets `[hidden] { display: none; }` but bootstrap.min.css set `[hidden] { display: none !important; }` so we also need the `!important` here to be able to override the default hidden behavior on the sphinx rendered scikit-learn.org. See: https://github.com/scikit-learn/scikit-learn/issues/21755 */display: inline-block !important;position: relative;}#sk-container-id-1 div.sk-text-repr-fallback {display: none;}</style><div id=\"sk-container-id-1\" class=\"sk-top-container\"><div class=\"sk-text-repr-fallback\"><pre>LogisticRegression()</pre><b>In a Jupyter environment, please rerun this cell to show the HTML representation or trust the notebook. <br />On GitHub, the HTML representation is unable to render, please try loading this page with nbviewer.org.</b></div><div class=\"sk-container\" hidden><div class=\"sk-item\"><div class=\"sk-estimator sk-toggleable\"><input class=\"sk-toggleable__control sk-hidden--visually\" id=\"sk-estimator-id-1\" type=\"checkbox\" checked><label for=\"sk-estimator-id-1\" class=\"sk-toggleable__label sk-toggleable__label-arrow\">LogisticRegression</label><div class=\"sk-toggleable__content\"><pre>LogisticRegression()</pre></div></div></div></div></div>"
      ],
      "text/plain": [
       "LogisticRegression()"
      ]
     },
     "execution_count": 19,
     "metadata": {},
     "output_type": "execute_result"
    }
   ],
   "source": [
    "#d) Train the model using logistic regression.\n",
    "from sklearn.linear_model import LogisticRegression\n",
    "\n",
    "model_credit_card = LogisticRegression()\n",
    "model_credit_card.fit(X_train, y_train)\n"
   ]
  },
  {
   "cell_type": "code",
   "execution_count": 20,
   "id": "ee1478f7",
   "metadata": {},
   "outputs": [
    {
     "name": "stdout",
     "output_type": "stream",
     "text": [
      "Training Accuracy: 0.9991937615648956\n"
     ]
    }
   ],
   "source": [
    "#e) Obtain the training accuracy.\n",
    "from sklearn.metrics import accuracy_score\n",
    "\n",
    "y_pred_train_credit_card = model_credit_card.predict(X_train)\n",
    "accuracy_train_credit_card = accuracy_score(y_train, y_pred_train_credit_card)\n",
    "print(f\"Training Accuracy: {accuracy_train_credit_card}\")\n"
   ]
  },
  {
   "cell_type": "code",
   "execution_count": 21,
   "id": "6ee89113",
   "metadata": {},
   "outputs": [
    {
     "name": "stdout",
     "output_type": "stream",
     "text": [
      "Testing Accuracy: 0.9991717477883904\n"
     ]
    }
   ],
   "source": [
    "#f) Test the model. Obtain the testing accuracy.\n",
    "y_pred_test_credit_card = model_credit_card.predict(X_test)\n",
    "accuracy_test_credit_card = accuracy_score(y_test, y_pred_test_credit_card)\n",
    "print(f\"Testing Accuracy: {accuracy_test_credit_card}\")\n"
   ]
  },
  {
   "cell_type": "code",
   "execution_count": 22,
   "id": "ba3048c5",
   "metadata": {},
   "outputs": [
    {
     "name": "stdout",
     "output_type": "stream",
     "text": [
      "Confusion Matrix:\n",
      "[[56650     6]\n",
      " [   41    49]]\n",
      "Precision: 0.8909090909090909\n",
      "Recall: 0.5444444444444444\n"
     ]
    }
   ],
   "source": [
    "# g) Generate confusion matrix, precision, and recall based on TP, FP, FN, TN.\n",
    "from sklearn.metrics import confusion_matrix, precision_score, recall_score\n",
    "\n",
    "conf_matrix = confusion_matrix(y_test, y_pred_test_credit_card)\n",
    "precision = precision_score(y_test, y_pred_test_credit_card)\n",
    "recall = recall_score(y_test, y_pred_test_credit_card)\n",
    "\n",
    "print(f\"Confusion Matrix:\\n{conf_matrix}\")\n",
    "print(f\"Precision: {precision}\")\n",
    "print(f\"Recall: {recall}\")\n"
   ]
  },
  {
   "cell_type": "code",
   "execution_count": null,
   "id": "33c0270b",
   "metadata": {},
   "outputs": [],
   "source": []
  }
 ],
 "metadata": {
  "kernelspec": {
   "display_name": "Python 3 (ipykernel)",
   "language": "python",
   "name": "python3"
  },
  "language_info": {
   "codemirror_mode": {
    "name": "ipython",
    "version": 3
   },
   "file_extension": ".py",
   "mimetype": "text/x-python",
   "name": "python",
   "nbconvert_exporter": "python",
   "pygments_lexer": "ipython3",
   "version": "3.10.5"
  }
 },
 "nbformat": 4,
 "nbformat_minor": 5
}
