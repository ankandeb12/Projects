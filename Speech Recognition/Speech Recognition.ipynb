{
 "cells": [
  {
   "cell_type": "code",
   "execution_count": 26,
   "id": "9d7bc300",
   "metadata": {},
   "outputs": [
    {
     "name": "stdout",
     "output_type": "stream",
     "text": [
      "Choose an option:\n",
      "1. Recognize speech from an audio file\n",
      "2. Recognize speech from the microphone\n",
      "Enter 1 or 2: 2\n",
      "Please speak something into the microphone...\n",
      "Recognized speech from microphone:  lemon\n",
      "Text contains more than 5 words.\n"
     ]
    }
   ],
   "source": [
    "import speech_recognition as sr\n",
    "\n",
    "def recognize_from_audio_file(audio_file_path):\n",
    "    with sr.AudioFile(audio_file_path) as source:\n",
    "        audio_data = recognizer.record(source)\n",
    "\n",
    "        try:\n",
    "            text = recognizer.recognize_google(audio_data)\n",
    "            print(\"Recognized speech from audio file: \", text)\n",
    "        except sr.UnknownValueError:\n",
    "            print(\"Speech recognition could not understand the audio.\")\n",
    "        except sr.RequestError as e:\n",
    "            print(f\"Could not request results from service; {e}\")\n",
    "\n",
    "def recognize_from_microphone():\n",
    "    with sr.Microphone() as mic_source:\n",
    "        print(\"Please speak something into the microphone...\")\n",
    "        recognizer.adjust_for_ambient_noise(mic_source)\n",
    "        audio_data_mic = recognizer.listen(mic_source)\n",
    "\n",
    "        try:\n",
    "            text_mic = recognizer.recognize_google(audio_data_mic)\n",
    "            print(\"Recognized speech from microphone: \", text_mic)\n",
    "        except sr.UnknownValueError:\n",
    "            print(\"Speech recognition could not understand the audio.\")\n",
    "        except sr.RequestError as e:\n",
    "            print(f\"Could not request results from service; {e}\")\n",
    "\n",
    "recognizer = sr.Recognizer()\n",
    "\n",
    "user_choice = input(\"Choose an option:\\n1. Recognize speech from an audio file\\n2. Recognize speech from the microphone\\nEnter 1 or 2: \")\n",
    "\n",
    "if user_choice == '1':\n",
    "    audio_file_path = input(\"Enter the path of the audio file: \")\n",
    "    recognize_from_audio_file(audio_file_path)\n",
    "elif user_choice == '2':\n",
    "    recognize_from_microphone()\n",
    "else:\n",
    "    print(\"Invalid choice. Please enter 1 or 2.\")\n",
    "    \n",
    "if text and len(text.split()) > 5:\n",
    "    print(\"Text contains more than 5 words.\")\n",
    "else:\n",
    "    print(\"Text is either empty or has fewer than 5 words.\")"
   ]
  },
  {
   "cell_type": "code",
   "execution_count": null,
   "id": "890b6060",
   "metadata": {},
   "outputs": [],
   "source": []
  }
 ],
 "metadata": {
  "kernelspec": {
   "display_name": "Python 3 (ipykernel)",
   "language": "python",
   "name": "python3"
  },
  "language_info": {
   "codemirror_mode": {
    "name": "ipython",
    "version": 3
   },
   "file_extension": ".py",
   "mimetype": "text/x-python",
   "name": "python",
   "nbconvert_exporter": "python",
   "pygments_lexer": "ipython3",
   "version": "3.10.5"
  }
 },
 "nbformat": 4,
 "nbformat_minor": 5
}
